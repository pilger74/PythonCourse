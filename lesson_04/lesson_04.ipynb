{
 "cells": [
  {
   "cell_type": "code",
   "execution_count": 1,
   "metadata": {
    "collapsed": true
   },
   "outputs": [],
   "source": [
    "# Занятие № 4 задение 1\n",
    "# Написать класс человек в котором можно хранить имя и фамилию человека, возраст, менять и получать их. Возраст должен быть между 0 и 120 годами\n",
    "#\n",
    "\n",
    "class People:\n",
    "    def __init__(self, first_name, last_name, age):\n",
    "        self.first_name = first_name\n",
    "        self.last_name = last_name\n",
    "        self.age = age;\n",
    "\n",
    "    @property\n",
    "    def age(self):\n",
    "        return self.__age\n",
    "\n",
    "    @age.setter\n",
    "    def age(self, age):\n",
    "        if 120 < age or age < 0:\n",
    "            raise Exception(\"Возраст должен быть в диапазоне от 0 до 120 лет\")\n",
    "        else:\n",
    "            self.__age = age\n",
    "\n",
    "    def print(self):\n",
    "        print(\"{fist_name: %s, last_name: %s, age: %s}\" %(self.first_name, self.last_name, self.age))\n"
   ]
  },
  {
   "cell_type": "code",
   "execution_count": 2,
   "metadata": {},
   "outputs": [
    {
     "name": "stdout",
     "output_type": "stream",
     "text": [
      "{fist_name: Dmitry, last_name: Melchenkov, age: 33}\n",
      "{fist_name: Dmitry, last_name: Melchenkov, age: 34}\n"
     ]
    },
    {
     "ename": "Exception",
     "evalue": "Возраст должен быть в диапазоне от 0 до 120 лет",
     "output_type": "error",
     "traceback": [
      "\u001b[1;31m---------------------------------------------------------------------------\u001b[0m",
      "\u001b[1;31mException\u001b[0m                                 Traceback (most recent call last)",
      "\u001b[1;32m<ipython-input-2-2b9c706369b6>\u001b[0m in \u001b[0;36m<module>\u001b[1;34m()\u001b[0m\n\u001b[0;32m      3\u001b[0m \u001b[0mman\u001b[0m\u001b[1;33m.\u001b[0m\u001b[0mage\u001b[0m \u001b[1;33m+=\u001b[0m \u001b[1;36m1\u001b[0m\u001b[1;33m\u001b[0m\u001b[0m\n\u001b[0;32m      4\u001b[0m \u001b[0mman\u001b[0m\u001b[1;33m.\u001b[0m\u001b[0mprint\u001b[0m\u001b[1;33m(\u001b[0m\u001b[1;33m)\u001b[0m\u001b[1;33m\u001b[0m\u001b[0m\n\u001b[1;32m----> 5\u001b[1;33m \u001b[0mman\u001b[0m\u001b[1;33m.\u001b[0m\u001b[0mage\u001b[0m \u001b[1;33m=\u001b[0m \u001b[1;36m199\u001b[0m\u001b[1;33m\u001b[0m\u001b[0m\n\u001b[0m\u001b[0;32m      6\u001b[0m \u001b[0mman\u001b[0m\u001b[1;33m.\u001b[0m\u001b[0mprint\u001b[0m\u001b[1;33m(\u001b[0m\u001b[1;33m)\u001b[0m\u001b[1;33m\u001b[0m\u001b[0m\n",
      "\u001b[1;32m<ipython-input-1-240a1f4bc6f2>\u001b[0m in \u001b[0;36mage\u001b[1;34m(self, age)\u001b[0m\n\u001b[0;32m     16\u001b[0m     \u001b[1;32mdef\u001b[0m \u001b[0mage\u001b[0m\u001b[1;33m(\u001b[0m\u001b[0mself\u001b[0m\u001b[1;33m,\u001b[0m \u001b[0mage\u001b[0m\u001b[1;33m)\u001b[0m\u001b[1;33m:\u001b[0m\u001b[1;33m\u001b[0m\u001b[0m\n\u001b[0;32m     17\u001b[0m         \u001b[1;32mif\u001b[0m \u001b[1;36m120\u001b[0m \u001b[1;33m<\u001b[0m \u001b[0mage\u001b[0m \u001b[1;32mor\u001b[0m \u001b[0mage\u001b[0m \u001b[1;33m<\u001b[0m \u001b[1;36m0\u001b[0m\u001b[1;33m:\u001b[0m\u001b[1;33m\u001b[0m\u001b[0m\n\u001b[1;32m---> 18\u001b[1;33m             \u001b[1;32mraise\u001b[0m \u001b[0mException\u001b[0m\u001b[1;33m(\u001b[0m\u001b[1;34m\"Возраст должен быть в диапазоне от 0 до 120 лет\"\u001b[0m\u001b[1;33m)\u001b[0m\u001b[1;33m\u001b[0m\u001b[0m\n\u001b[0m\u001b[0;32m     19\u001b[0m         \u001b[1;32melse\u001b[0m\u001b[1;33m:\u001b[0m\u001b[1;33m\u001b[0m\u001b[0m\n\u001b[0;32m     20\u001b[0m             \u001b[0mself\u001b[0m\u001b[1;33m.\u001b[0m\u001b[0m__age\u001b[0m \u001b[1;33m=\u001b[0m \u001b[0mage\u001b[0m\u001b[1;33m\u001b[0m\u001b[0m\n",
      "\u001b[1;31mException\u001b[0m: Возраст должен быть в диапазоне от 0 до 120 лет"
     ]
    }
   ],
   "source": [
    "man = People('Dmitry', 'Melchenkov', 33)\n",
    "man.print()\n",
    "man.age += 1\n",
    "man.print()\n",
    "man.age = 199\n",
    "man.print()"
   ]
  },
  {
   "cell_type": "code",
   "execution_count": null,
   "metadata": {
    "collapsed": true
   },
   "outputs": [],
   "source": []
  },
  {
   "cell_type": "code",
   "execution_count": 3,
   "metadata": {
    "collapsed": true
   },
   "outputs": [],
   "source": [
    "# Занятие № 4 задение 2\n",
    "# Написать класс у которого будет отдел и зарплата, которые так же задаются.\n",
    "# Сделать поля удачных и неудачных поступков сотрудника которые можно через вызовы методов наращивать.\n",
    "# Реализовать метод считающее итоговую зарплату = зп + 2*(удачные действия) - 3* (неудачные действия)\n",
    "# У менеджера зарплата считается как зп + 4*(удачные действия) - 5* (неудачные действия)\n",
    "\n",
    "class Emploee:\n",
    "    def __init__(self, firt_name, last_name, division, manager, salary):\n",
    "        self.first_name = firt_name\n",
    "        self.last_name = last_name\n",
    "        self.division = division\n",
    "        self.salary = salary;\n",
    "        self.manager = manager;\n",
    "        self.__good_act = 0\n",
    "        self.__bad_act = 0\n",
    "    @property\n",
    "    def salary(self):\n",
    "        return self.__salary\n",
    "    @salary.setter\n",
    "    def salary(self, salary):\n",
    "        if salary < 0:\n",
    "            raise Exception(\"Заработная плата - положитльное число\")\n",
    "        else:\n",
    "            self.__salary = salary\n",
    "    @property\n",
    "    def itog_salary(self):\n",
    "        if self.manager == False:\n",
    "            self.__itog_salary = self.__salary + 2 * self.__good_act - 3 * self.__bad_act\n",
    "        else:\n",
    "            self.__itog_salary = self.__salary + 4 * self.__good_act - 5 * self.__bad_act\n",
    "        return(self.__itog_salary)\n",
    "    @property\n",
    "    def good_act(self):\n",
    "        return self.__good_act\n",
    "    @property\n",
    "    def bad_act(self):\n",
    "        return self.__bad_act\n",
    "    def inc_good_act(self, inc_value):\n",
    "        if inc_value < 0:\n",
    "            raise Exception(\"inc_value при вызове inc_good_act должно быть > 0\")\n",
    "        else:\n",
    "            self.__good_act += inc_value\n",
    "    def dec_good_act(self, dec_value):\n",
    "        if dec_value < 0:\n",
    "            raise Exception(\"dec_value при вызове dec_good_act должно быть > 0\")\n",
    "        else:\n",
    "            self.__good_act -= dec_value\n",
    "    def inc_bad_act(self, inc_value):\n",
    "        if inc_value < 0:\n",
    "            raise Exception(\"inc_value при вызове inc_bad_act должно быть > 0\")\n",
    "        else:\n",
    "            self.__bad_act += inc_value\n",
    "    def dec_bad_act(self, dec_value):\n",
    "        if dec_value < 0:\n",
    "            raise Exception(\"dec_value при вызове dec_bad_act должно быть > 0\")\n",
    "        else:\n",
    "            self.__bad_act -= dec_value\n",
    "    def print(self):\n",
    "        print(\"{fist_name: %s, last_name: %s, division: %s, manager: %s, salary: %s, good_act %s, bad_act: %s, itog_salary: %s}\" % (\n",
    "        self.first_name, self.last_name, self.division, str(self.manager), str(self.salary), str(self.__good_act),\n",
    "        str(self.__bad_act), str(self.itog_salary)))"
   ]
  },
  {
   "cell_type": "code",
   "execution_count": 4,
   "metadata": {},
   "outputs": [
    {
     "name": "stdout",
     "output_type": "stream",
     "text": [
      "{fist_name: John, last_name: Smith, division: DOMCLICK, manager: False, salary: 10000.0, good_act 4, bad_act: 2, itog_salary: 10002.0}\n"
     ]
    }
   ],
   "source": [
    "# Рабочий\n",
    "Worker = Emploee('John', 'Smith', 'DOMCLICK', False, 10000.00)\n",
    "Worker.inc_good_act(5)\n",
    "Worker.dec_good_act(1)\n",
    "Worker.inc_bad_act(3)\n",
    "Worker.dec_bad_act(1)\n",
    "Worker.print()"
   ]
  },
  {
   "cell_type": "code",
   "execution_count": 5,
   "metadata": {},
   "outputs": [
    {
     "name": "stdout",
     "output_type": "stream",
     "text": [
      "{fist_name: Bill, last_name: Lewis, division: DOMCLICK, manager: True, salary: 20000.0, good_act 6, bad_act: 3, itog_salary: 20009.0}\n"
     ]
    }
   ],
   "source": [
    "# Менеджер\n",
    "Manager = Emploee('Bill', 'Lewis', 'DOMCLICK', True, 20000.00)\n",
    "Manager.inc_good_act(6)\n",
    "Manager.inc_bad_act(3)\n",
    "Manager.print()"
   ]
  },
  {
   "cell_type": "code",
   "execution_count": null,
   "metadata": {
    "collapsed": true
   },
   "outputs": [],
   "source": []
  }
 ],
 "metadata": {
  "kernelspec": {
   "display_name": "Python 3",
   "language": "python",
   "name": "python3"
  },
  "language_info": {
   "codemirror_mode": {
    "name": "ipython",
    "version": 3
   },
   "file_extension": ".py",
   "mimetype": "text/x-python",
   "name": "python",
   "nbconvert_exporter": "python",
   "pygments_lexer": "ipython3",
   "version": "3.6.2"
  }
 },
 "nbformat": 4,
 "nbformat_minor": 2
}
